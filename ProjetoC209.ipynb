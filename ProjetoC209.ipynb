{
 "cells": [
  {
   "cell_type": "markdown",
   "metadata": {},
   "source": [
    "\n",
    "Importando video"
   ]
  },
  {
   "cell_type": "markdown",
   "metadata": {},
   "source": [
    "Link Video inicial: https://youtu.be/Izf36y3U2ZA\n",
    "Link Video final: https://youtu.be/ae1MzpHUwb4"
   ]
  },
  {
   "cell_type": "code",
   "execution_count": null,
   "metadata": {},
   "outputs": [],
   "source": [
    "import moviepy.editor as mpe\n",
    "import numpy as np\n",
    "\n",
    "\n",
    "video = mpe.VideoFileClip(\"/Users/Defen/OneDrive/Área de Trabalho/Trabalho C209.mp4\")\n",
    "video.ipython_display(width=480, maxduration=200) "
   ]
  },
  {
   "cell_type": "markdown",
   "metadata": {},
   "source": [
    "Inverter imagem em relaçao ao eixo X a cada 20 segundos"
   ]
  },
  {
   "cell_type": "code",
   "execution_count": null,
   "metadata": {},
   "outputs": [],
   "source": [
    "import moviepy.editor as mpe\n",
    "import numpy as np\n",
    "\n",
    "# Função que espelha o frame no eixo X (horizontal)\n",
    "def reflectFrameX(frame):\n",
    "    return np.flip(frame, axis=0)  # Inverte o eixo X (vertical)\n",
    "\n",
    "# Carregar o vídeo original\n",
    "video = mpe.VideoFileClip(\"/Users/Defen/OneDrive/Área de Trabalho/Trabalho C209.mp4\")\n",
    "\n",
    "def reflete(get_frame, t, interval=20):\n",
    "    if int(t // interval) % 2 == 1:  \n",
    "        return reflectFrameX(get_frame(t))  \n",
    "    else:\n",
    "        return get_frame(t)  \n",
    "\n",
    "\n",
    "# Aplicar o efeito de reflexão horizontal a todos os frames\n",
    "video_reflected = video.fl(reflete)\n",
    "\n",
    "\n",
    "output_path = \"/Users/Defen/OneDrive/Área de Trabalho/Trabalho_C209_refletido.mp4\"\n",
    "video_reflected.write_videofile(output_path, codec=\"libx264\", audio_codec=\"aac\")\n",
    "\n",
    "# Exibir o vídeo processado \n",
    "video_reflected.ipython_display(width=480, maxduration=200)"
   ]
  },
  {
   "cell_type": "markdown",
   "metadata": {},
   "source": [
    "Diminui o audio a cada 30 segundos sendo os ultimos 10 segundos sem audio "
   ]
  },
  {
   "cell_type": "code",
   "execution_count": null,
   "metadata": {},
   "outputs": [],
   "source": [
    "import moviepy.editor as mpe\n",
    "import numpy as np\n",
    "\n",
    "# Função para diminuir gradativamente o áudio\n",
    "def decrease(audio, t):\n",
    "    frame = audio(t)\n",
    "    fade_duration = video.duration  # O fade ocorre durante toda a duração do vídeo\n",
    "    \n",
    "    # Calcula o fator de volume, onde o volume vai diminuindo gradativamente até 0\n",
    "    volume_factor = 1 - (t / fade_duration)  # O volume diminui gradativamente até 0\n",
    "    \n",
    "    # Aplica a redução do volume nas duas pistas de áudio (esquerda e direita)\n",
    "    frame[:, 0] *= volume_factor\n",
    "    frame[:, 1] *= volume_factor\n",
    "    \n",
    "    return frame\n",
    "\n",
    "# Carregar o vídeo\n",
    "video_path = \"/Users/Defen/OneDrive/Área de Trabalho/Trabalho_C209_refletido.mp4\"\n",
    "video = mpe.VideoFileClip(video_path)\n",
    "\n",
    "# Aplicar a função de redução de volume no áudio\n",
    "audio_decrease = video.audio.fl(decrease)\n",
    "\n",
    "# Criar o vídeo com o áudio modificado\n",
    "video_audio_decrease = video.set_audio(audio_decrease)\n",
    "\n",
    "output_path = \"/Users/Defen/OneDrive/Área de Trabalho/Trabalho_C209_diminui_audio.mp4\"\n",
    "video_audio_decrease.write_videofile(output_path, codec=\"libx264\", audio_codec=\"aac\")\n",
    "\n",
    "# Exibir o vídeo com áudio diminuído\n",
    "video_audio_decrease.ipython_display(width=480, maxduration=200)"
   ]
  },
  {
   "cell_type": "markdown",
   "metadata": {},
   "source": [
    "Apos o primeiro minuto fazer um corte para o segundo 80 e adicionando os 20 segundos ao fim do video"
   ]
  },
  {
   "cell_type": "code",
   "execution_count": null,
   "metadata": {},
   "outputs": [],
   "source": [
    "import moviepy.editor as mpe\n",
    "\n",
    "# Carregar o vídeo\n",
    "video_path = \"/Users/Defen/OneDrive/Área de Trabalho/Trabalho_C209_diminui_audio.mp4\"\n",
    "video = mpe.VideoFileClip(video_path)\n",
    "\n",
    "# Definir os trechos a serem manipulados\n",
    "clip_to_move = video.subclip(60, 80)  # Trecho entre 60s e 80s\n",
    "remaining_video = mpe.concatenate_videoclips([video.subclip(0, 60), video.subclip(80, video.duration)])\n",
    "\n",
    "# Combinar o vídeo restante com o trecho movido para o final\n",
    "final_video = mpe.concatenate_videoclips([remaining_video, clip_to_move])\n",
    "\n",
    "output_path = \"/Users/Defen/OneDrive/Área de Trabalho/Trabalho_C209_video_final.mp4\"\n",
    "video_audio_decrease.write_videofile(output_path, codec=\"libx264\", audio_codec=\"aac\")\n",
    "\n",
    "\n",
    "# Exibir o vídeo final\n",
    "final_video.ipython_display(width=480, maxduration=200)"
   ]
  }
 ],
 "metadata": {
  "kernelspec": {
   "display_name": "base",
   "language": "python",
   "name": "python3"
  },
  "language_info": {
   "codemirror_mode": {
    "name": "ipython",
    "version": 3
   },
   "file_extension": ".py",
   "mimetype": "text/x-python",
   "name": "python",
   "nbconvert_exporter": "python",
   "pygments_lexer": "ipython3",
   "version": "3.12.4"
  }
 },
 "nbformat": 4,
 "nbformat_minor": 2
}
